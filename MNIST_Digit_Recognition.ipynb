{
  "cells": [
    {
      "attachments": {},
      "cell_type": "markdown",
      "metadata": {
        "id": "q0GwKDlNSZoa"
      },
      "source": [
        "# **Introduction** <hr>\n",
        "- The MNIST (Modified National Institute of Standards and Technology) dataset is a widely used benchmark in the field of machine learning. It consists of a collection of handwritten digit images along with their corresponding labels. The MNIST model is a popular example of a deep learning model used to classify these digits accurately. This documentation provides a brief overview of the MNIST model.\n",
        "\n",
        "- MNIST consists of a large collection of handwritten digits from 0 to 9.\n",
        "\n",
        "- The dataset contains a training set of 60,000 grayscale images and a test set of 10,000 grayscale images. Each image is a 28x28 pixel square, representing a handwritten digit. The digits are centered and normalized, making the dataset relatively clean and consistent.\n",
        "\n"
      ]
    },
    {
      "attachments": {},
      "cell_type": "markdown",
      "metadata": {
        "id": "zI6e8k2ISowT"
      },
      "source": [
        "# **Step 1 : Importing the MNIST Dataset** <hr>\n",
        "- To begin working with the MNIST dataset in Python, you can utilize the TensorFlow library, which provides convenient access to the dataset. The following code snippet demonstrates how to import the MNIST dataset using TensorFlow.\n",
        "\n",
        "- By importing the MNIST dataset, you gain access to the training and testing subsets of handwritten digit images along with their corresponding labels. The dataset is divided into 60,000 training examples and 10,000 testing examples.\n",
        "\n",
        "- Next, you can proceed to preprocess and utilize this dataset to train a MNIST model for digit classification."
      ]
    },
    {
      "cell_type": "code",
      "execution_count": 1,
      "metadata": {
        "id": "MEN2l1F2RmWk"
      },
      "outputs": [],
      "source": [
        "import tensorflow as tf\n",
        "mnist = tf.keras.datasets.mnist"
      ]
    },
    {
      "attachments": {},
      "cell_type": "markdown",
      "metadata": {
        "id": "3hEym5qaTd6o"
      },
      "source": [
        "# **Step 2 : Loading and Splitting the MNIST Dataset** <hr>\n",
        "- Once the MNIST dataset is imported, you can load and split it into training and testing subsets. The following code snippet demonstrates how to load and split the dataset using the **`mnist.load_data()`**\n",
        "\n",
        "- The X_train and X_test variables contain the image data, which are numpy arrays representing the grayscale pixel values of the handwritten digits. The shape of each image array is `(28, 28)`, indicating a 28x28-pixel image.\n",
        "\n",
        "- The Y_train and Y_test variables contain the corresponding labels for each image, indicating the true digit represented by the image. The labels are represented as integers ranging from 0 to 9.\n",
        "\n",
        "- By splitting the dataset into training and testing subsets, you can utilize the X_train and Y_train arrays to train your MNIST model, and then evaluate its performance using the X_test and Y_test arrays.\n",
        "\n",
        "- Next, you can proceed to preprocess the image data and build your MNIST model."
      ]
    },
    {
      "cell_type": "code",
      "execution_count": 2,
      "metadata": {
        "id": "O1ZX_1ExRu48"
      },
      "outputs": [],
      "source": [
        "(X_train, Y_train), (X_test, Y_test) = mnist.load_data()"
      ]
    },
    {
      "attachments": {},
      "cell_type": "markdown",
      "metadata": {
        "id": "-iv2lJXxVukt"
      },
      "source": [
        "<h5 style=\"color: \t#FFFFFF;\"> X_train, Y_train, X_test, and Y_test represent the variables used to store the MNIST dataset after it has been loaded and split into training and testing sets. </h5> <hr>\n",
        "\n",
        "\n",
        "- **X_train**: This variable holds the training images data. (num_samples, height, width) <br>\n",
        "\n",
        "- **Y_train**: This variable contains the corresponding labels for the training images. `(num_samples)` Y_train represents the label (i.e., the digit from 0 to 9) corresponding to the respective image in X_train <br>\n",
        "\n",
        "- **X_test**: holds the testing images data.<br>\n",
        "\n",
        "- **Y_test**: contains the corresponding labels for the testing images. Each element in Y_test represents the label for the respective image in X_test <br>"
      ]
    },
    {
      "cell_type": "code",
      "execution_count": 3,
      "metadata": {
        "id": "8q7kt2z5Tc0z"
      },
      "outputs": [
        {
          "name": "stdout",
          "output_type": "stream",
          "text": [
            "The shape of X_train :  (60000, 28, 28)\n",
            "The shape of Y_train :  (60000,)\n",
            "The shape of X_test  :  (10000, 28, 28)\n",
            "The shape of Y_test  :  (10000,)\n"
          ]
        }
      ],
      "source": [
        "print(\"The shape of X_train : \", X_train.shape)\n",
        "print(\"The shape of Y_train : \", Y_train.shape)\n",
        "print(\"The shape of X_test  : \", X_test.shape)\n",
        "print(\"The shape of Y_test  : \", Y_test.shape)"
      ]
    },
    {
      "attachments": {},
      "cell_type": "markdown",
      "metadata": {
        "id": "2dryRQiLXtZa"
      },
      "source": [
        "### Showing the Visualized format of X_train datasets"
      ]
    },
    {
      "cell_type": "code",
      "execution_count": 4,
      "metadata": {
        "id": "v1fnDAN9U-iP"
      },
      "outputs": [
        {
          "data": {
            "text/plain": [
              "array([[  0,   0,   0,   0,   0,   0,   0,   0,   0,   0,   0,   0,   0,\n",
              "          0,   0,   0,   0,   0,   0,   0,   0,   0,   0,   0,   0,   0,\n",
              "          0,   0],\n",
              "       [  0,   0,   0,   0,   0,   0,   0,   0,   0,   0,   0,   0,   0,\n",
              "          0,   0,   0,   0,   0,   0,   0,   0,   0,   0,   0,   0,   0,\n",
              "          0,   0],\n",
              "       [  0,   0,   0,   0,   0,   0,   0,   0,   0,   0,   0,   0,   0,\n",
              "          0,   0,   0,   0,   0,   0,   0,   0,   0,   0,   0,   0,   0,\n",
              "          0,   0],\n",
              "       [  0,   0,   0,   0,   0,   0,   0,   0,   0,   0,   0,   0,   0,\n",
              "          0,   0,   0,   0,   0,   0,   0,   0,   0,   0,   0,   0,   0,\n",
              "          0,   0],\n",
              "       [  0,   0,   0,   0,   0,   0,   0,   0,   0,   0,   0,   0,   0,\n",
              "          0,   0,   0,   0,   0,   0,   0,   0,   0,   0,   0,   0,   0,\n",
              "          0,   0],\n",
              "       [  0,   0,   0,   0,   0,   0,   0,   0,   0,   0,   0,   0,   3,\n",
              "         18,  18,  18, 126, 136, 175,  26, 166, 255, 247, 127,   0,   0,\n",
              "          0,   0],\n",
              "       [  0,   0,   0,   0,   0,   0,   0,   0,  30,  36,  94, 154, 170,\n",
              "        253, 253, 253, 253, 253, 225, 172, 253, 242, 195,  64,   0,   0,\n",
              "          0,   0],\n",
              "       [  0,   0,   0,   0,   0,   0,   0,  49, 238, 253, 253, 253, 253,\n",
              "        253, 253, 253, 253, 251,  93,  82,  82,  56,  39,   0,   0,   0,\n",
              "          0,   0],\n",
              "       [  0,   0,   0,   0,   0,   0,   0,  18, 219, 253, 253, 253, 253,\n",
              "        253, 198, 182, 247, 241,   0,   0,   0,   0,   0,   0,   0,   0,\n",
              "          0,   0],\n",
              "       [  0,   0,   0,   0,   0,   0,   0,   0,  80, 156, 107, 253, 253,\n",
              "        205,  11,   0,  43, 154,   0,   0,   0,   0,   0,   0,   0,   0,\n",
              "          0,   0],\n",
              "       [  0,   0,   0,   0,   0,   0,   0,   0,   0,  14,   1, 154, 253,\n",
              "         90,   0,   0,   0,   0,   0,   0,   0,   0,   0,   0,   0,   0,\n",
              "          0,   0],\n",
              "       [  0,   0,   0,   0,   0,   0,   0,   0,   0,   0,   0, 139, 253,\n",
              "        190,   2,   0,   0,   0,   0,   0,   0,   0,   0,   0,   0,   0,\n",
              "          0,   0],\n",
              "       [  0,   0,   0,   0,   0,   0,   0,   0,   0,   0,   0,  11, 190,\n",
              "        253,  70,   0,   0,   0,   0,   0,   0,   0,   0,   0,   0,   0,\n",
              "          0,   0],\n",
              "       [  0,   0,   0,   0,   0,   0,   0,   0,   0,   0,   0,   0,  35,\n",
              "        241, 225, 160, 108,   1,   0,   0,   0,   0,   0,   0,   0,   0,\n",
              "          0,   0],\n",
              "       [  0,   0,   0,   0,   0,   0,   0,   0,   0,   0,   0,   0,   0,\n",
              "         81, 240, 253, 253, 119,  25,   0,   0,   0,   0,   0,   0,   0,\n",
              "          0,   0],\n",
              "       [  0,   0,   0,   0,   0,   0,   0,   0,   0,   0,   0,   0,   0,\n",
              "          0,  45, 186, 253, 253, 150,  27,   0,   0,   0,   0,   0,   0,\n",
              "          0,   0],\n",
              "       [  0,   0,   0,   0,   0,   0,   0,   0,   0,   0,   0,   0,   0,\n",
              "          0,   0,  16,  93, 252, 253, 187,   0,   0,   0,   0,   0,   0,\n",
              "          0,   0],\n",
              "       [  0,   0,   0,   0,   0,   0,   0,   0,   0,   0,   0,   0,   0,\n",
              "          0,   0,   0,   0, 249, 253, 249,  64,   0,   0,   0,   0,   0,\n",
              "          0,   0],\n",
              "       [  0,   0,   0,   0,   0,   0,   0,   0,   0,   0,   0,   0,   0,\n",
              "          0,  46, 130, 183, 253, 253, 207,   2,   0,   0,   0,   0,   0,\n",
              "          0,   0],\n",
              "       [  0,   0,   0,   0,   0,   0,   0,   0,   0,   0,   0,   0,  39,\n",
              "        148, 229, 253, 253, 253, 250, 182,   0,   0,   0,   0,   0,   0,\n",
              "          0,   0],\n",
              "       [  0,   0,   0,   0,   0,   0,   0,   0,   0,   0,  24, 114, 221,\n",
              "        253, 253, 253, 253, 201,  78,   0,   0,   0,   0,   0,   0,   0,\n",
              "          0,   0],\n",
              "       [  0,   0,   0,   0,   0,   0,   0,   0,  23,  66, 213, 253, 253,\n",
              "        253, 253, 198,  81,   2,   0,   0,   0,   0,   0,   0,   0,   0,\n",
              "          0,   0],\n",
              "       [  0,   0,   0,   0,   0,   0,  18, 171, 219, 253, 253, 253, 253,\n",
              "        195,  80,   9,   0,   0,   0,   0,   0,   0,   0,   0,   0,   0,\n",
              "          0,   0],\n",
              "       [  0,   0,   0,   0,  55, 172, 226, 253, 253, 253, 253, 244, 133,\n",
              "         11,   0,   0,   0,   0,   0,   0,   0,   0,   0,   0,   0,   0,\n",
              "          0,   0],\n",
              "       [  0,   0,   0,   0, 136, 253, 253, 253, 212, 135, 132,  16,   0,\n",
              "          0,   0,   0,   0,   0,   0,   0,   0,   0,   0,   0,   0,   0,\n",
              "          0,   0],\n",
              "       [  0,   0,   0,   0,   0,   0,   0,   0,   0,   0,   0,   0,   0,\n",
              "          0,   0,   0,   0,   0,   0,   0,   0,   0,   0,   0,   0,   0,\n",
              "          0,   0],\n",
              "       [  0,   0,   0,   0,   0,   0,   0,   0,   0,   0,   0,   0,   0,\n",
              "          0,   0,   0,   0,   0,   0,   0,   0,   0,   0,   0,   0,   0,\n",
              "          0,   0],\n",
              "       [  0,   0,   0,   0,   0,   0,   0,   0,   0,   0,   0,   0,   0,\n",
              "          0,   0,   0,   0,   0,   0,   0,   0,   0,   0,   0,   0,   0,\n",
              "          0,   0]], dtype=uint8)"
            ]
          },
          "execution_count": 4,
          "metadata": {},
          "output_type": "execute_result"
        }
      ],
      "source": [
        "X_train[0]"
      ]
    },
    {
      "attachments": {},
      "cell_type": "markdown",
      "metadata": {
        "id": "4xSd3ayPX9cS"
      },
      "source": [
        "### Import **Matplotlib** Library and Visualize the X_train[0] data in Image Graphical Form.\n",
        "\n",
        "- We need to import the two libraries:\n",
        "```\n",
        "# Matplotlib\n",
        "# Numpy\n",
        "```"
      ]
    },
    {
      "cell_type": "code",
      "execution_count": 5,
      "metadata": {
        "id": "UA4P8aKfX5T7"
      },
      "outputs": [],
      "source": [
        "import matplotlib.pyplot as plt\n",
        "import numpy as np"
      ]
    },
    {
      "cell_type": "code",
      "execution_count": 6,
      "metadata": {
        "id": "unB8j72LYumh"
      },
      "outputs": [
        {
          "data": {
            "image/png": "[encoded data removed]",
            "text/plain": [
              "<Figure size 432x288 with 1 Axes>"
            ]
          },
          "metadata": {
            "needs_background": "light"
          },
          "output_type": "display_data"
        },
        {
          "data": {
            "text/plain": [
              "<matplotlib.image.AxesImage at 0x1f17daf9c30>"
            ]
          },
          "execution_count": 6,
          "metadata": {},
          "output_type": "execute_result"
        },
        {
          "data": {
            "image/png": "[encoded data removed]",
            "text/plain": [
              "<Figure size 432x288 with 1 Axes>"
            ]
          },
          "metadata": {
            "needs_background": "light"
          },
          "output_type": "display_data"
        }
      ],
      "source": [
        "plt.imshow(X_train[0])\n",
        "plt.show()\n",
        "plt.imshow(np.invert(X_train[0]), cmap=plt.cm.binary)"
      ]
    },
    {
      "attachments": {},
      "cell_type": "markdown",
      "metadata": {
        "id": "xcfyn8b8ZDu_"
      },
      "source": [
        "# **Step 3 - Normalizing the MNIST Dataset**\n",
        "- Normalization is a process of scaling the values in a dataset so that they have a common range. This makes it easier for machine learning models to learn from the data.\n",
        "- To improve the training process and model performance, it is often beneficial to normalize the pixel values of the MNIST dataset. Normalization scales the pixel values to a range of 0 to 1, making the data more suitable for training a neural network. The following code snippet demonstrates how to normalize the **MNIST** dataset using the **`tf.keras.utils.normalize()`** function\n",
        "```\n",
        "tf.keras.utils.normalize()\n",
        "```\n",
        "\n",
        "- In the above code, the **`tf.keras.utils.normalize()`** function is applied to both the X_train and X_test arrays. By specifying axis=1, the normalization is performed along the pixel values axis.\n",
        "\n",
        "- After normalization, the pixel values of the images are scaled to values between 0 and 1, ensuring that the neural network can effectively learn from the data.\n",
        "\n",
        "- Additionally, the **`plt.imshow()`** function from the matplotlib.pyplot library is used to visualize one of the normalized images from the X_train array. The cmap=plt.cm.binary argument sets the colormap to binary, displaying the image in black and white.\n",
        "\n",
        "- By normalizing the dataset, you have prepared the image data for training the MNIST model.\n",
        "\n",
        "- Next, you can proceed to build and train your MNIST model using the normalized dataset.\n"
      ]
    },
    {
      "cell_type": "code",
      "execution_count": 7,
      "metadata": {
        "id": "Znlg1bOWYOzx"
      },
      "outputs": [
        {
          "data": {
            "text/plain": [
              "<matplotlib.image.AxesImage at 0x1f17db662c0>"
            ]
          },
          "execution_count": 7,
          "metadata": {},
          "output_type": "execute_result"
        },
        {
          "data": {
            "image/png": "[encoded data removed]",
            "text/plain": [
              "<Figure size 432x288 with 1 Axes>"
            ]
          },
          "metadata": {
            "needs_background": "light"
          },
          "output_type": "display_data"
        }
      ],
      "source": [
        "# Normalise the Datasets\n",
        "X_train = tf.keras.utils.normalize(X_train, axis=1)\n",
        "X_test = tf.keras.utils.normalize(X_test, axis=1)\n",
        "plt.imshow(X_train[0], cmap=plt.cm.binary)"
      ]
    },
    {
      "attachments": {},
      "cell_type": "markdown",
      "metadata": {
        "id": "n1zkhvmcffcW"
      },
      "source": [
        "## **After Normalization**"
      ]
    },
    {
      "cell_type": "code",
      "execution_count": 8,
      "metadata": {
        "id": "agU9rsL5aIfI"
      },
      "outputs": [
        {
          "name": "stdout",
          "output_type": "stream",
          "text": [
            "[[0.         0.         0.         0.         0.         0.\n",
            "  0.         0.         0.         0.         0.         0.\n",
            "  0.         0.         0.         0.         0.         0.\n",
            "  0.         0.         0.         0.         0.         0.\n",
            "  0.         0.         0.         0.        ]\n",
            " [0.         0.         0.         0.         0.         0.\n",
            "  0.         0.         0.         0.         0.         0.\n",
            "  0.         0.         0.         0.         0.         0.\n",
            "  0.         0.         0.         0.         0.         0.\n",
            "  0.         0.         0.         0.        ]\n",
            " [0.         0.         0.         0.         0.         0.\n",
            "  0.         0.         0.         0.         0.         0.\n",
            "  0.         0.         0.         0.         0.         0.\n",
            "  0.         0.         0.         0.         0.         0.\n",
            "  0.         0.         0.         0.        ]\n",
            " [0.         0.         0.         0.         0.         0.\n",
            "  0.         0.         0.         0.         0.         0.\n",
            "  0.         0.         0.         0.         0.         0.\n",
            "  0.         0.         0.         0.         0.         0.\n",
            "  0.         0.         0.         0.        ]\n",
            " [0.         0.         0.         0.         0.         0.\n",
            "  0.         0.         0.         0.         0.         0.\n",
            "  0.         0.         0.         0.         0.         0.\n",
            "  0.         0.         0.         0.         0.         0.\n",
            "  0.         0.         0.         0.        ]\n",
            " [0.         0.         0.         0.         0.         0.\n",
            "  0.         0.         0.         0.         0.         0.\n",
            "  0.00393124 0.02332955 0.02620568 0.02625207 0.17420356 0.17566281\n",
            "  0.28629534 0.05664824 0.51877786 0.71632322 0.77892406 0.89301644\n",
            "  0.         0.         0.         0.        ]\n",
            " [0.         0.         0.         0.         0.         0.\n",
            "  0.         0.         0.05780486 0.06524513 0.16128198 0.22713296\n",
            "  0.22277047 0.32790981 0.36833534 0.3689874  0.34978968 0.32678448\n",
            "  0.368094   0.3747499  0.79066747 0.67980478 0.61494005 0.45002403\n",
            "  0.         0.         0.         0.        ]\n",
            " [0.         0.         0.         0.         0.         0.\n",
            "  0.         0.12250613 0.45858525 0.45852825 0.43408872 0.37314701\n",
            "  0.33153488 0.32790981 0.36833534 0.3689874  0.34978968 0.32420121\n",
            "  0.15214552 0.17865984 0.25626376 0.1573102  0.12298801 0.\n",
            "  0.         0.         0.         0.        ]\n",
            " [0.         0.         0.         0.         0.         0.\n",
            "  0.         0.04500225 0.4219755  0.45852825 0.43408872 0.37314701\n",
            "  0.33153488 0.32790981 0.28826244 0.26543758 0.34149427 0.31128482\n",
            "  0.         0.         0.         0.         0.         0.\n",
            "  0.         0.         0.         0.        ]\n",
            " [0.         0.         0.         0.         0.         0.\n",
            "  0.         0.         0.1541463  0.28272888 0.18358693 0.37314701\n",
            "  0.33153488 0.26569767 0.01601458 0.         0.05945042 0.19891229\n",
            "  0.         0.         0.         0.         0.         0.\n",
            "  0.         0.         0.         0.        ]\n",
            " [0.         0.         0.         0.         0.         0.\n",
            "  0.         0.         0.         0.0253731  0.00171577 0.22713296\n",
            "  0.33153488 0.11664776 0.         0.         0.         0.\n",
            "  0.         0.         0.         0.         0.         0.\n",
            "  0.         0.         0.         0.        ]\n",
            " [0.         0.         0.         0.         0.         0.\n",
            "  0.         0.         0.         0.         0.         0.20500962\n",
            "  0.33153488 0.24625638 0.00291174 0.         0.         0.\n",
            "  0.         0.         0.         0.         0.         0.\n",
            "  0.         0.         0.         0.        ]\n",
            " [0.         0.         0.         0.         0.         0.\n",
            "  0.         0.         0.         0.         0.         0.01622378\n",
            "  0.24897876 0.32790981 0.10191096 0.         0.         0.\n",
            "  0.         0.         0.         0.         0.         0.\n",
            "  0.         0.         0.         0.        ]\n",
            " [0.         0.         0.         0.         0.         0.\n",
            "  0.         0.         0.         0.         0.         0.\n",
            "  0.04586451 0.31235677 0.32757096 0.23335172 0.14931733 0.00129164\n",
            "  0.         0.         0.         0.         0.         0.\n",
            "  0.         0.         0.         0.        ]\n",
            " [0.         0.         0.         0.         0.         0.\n",
            "  0.         0.         0.         0.         0.         0.\n",
            "  0.         0.10498298 0.34940902 0.3689874  0.34978968 0.15370495\n",
            "  0.04089933 0.         0.         0.         0.         0.\n",
            "  0.         0.         0.         0.        ]\n",
            " [0.         0.         0.         0.         0.         0.\n",
            "  0.         0.         0.         0.         0.         0.\n",
            "  0.         0.         0.06551419 0.27127137 0.34978968 0.32678448\n",
            "  0.245396   0.05882702 0.         0.         0.         0.\n",
            "  0.         0.         0.         0.        ]\n",
            " [0.         0.         0.         0.         0.         0.\n",
            "  0.         0.         0.         0.         0.         0.\n",
            "  0.         0.         0.         0.02333517 0.12857881 0.32549285\n",
            "  0.41390126 0.40743158 0.         0.         0.         0.\n",
            "  0.         0.         0.         0.        ]\n",
            " [0.         0.         0.         0.         0.         0.\n",
            "  0.         0.         0.         0.         0.         0.\n",
            "  0.         0.         0.         0.         0.         0.32161793\n",
            "  0.41390126 0.54251585 0.20001074 0.         0.         0.\n",
            "  0.         0.         0.         0.        ]\n",
            " [0.         0.         0.         0.         0.         0.\n",
            "  0.         0.         0.         0.         0.         0.\n",
            "  0.         0.         0.06697006 0.18959827 0.25300993 0.32678448\n",
            "  0.41390126 0.45100715 0.00625034 0.         0.         0.\n",
            "  0.         0.         0.         0.        ]\n",
            " [0.         0.         0.         0.         0.         0.\n",
            "  0.         0.         0.         0.         0.         0.\n",
            "  0.05110617 0.19182076 0.33339444 0.3689874  0.34978968 0.32678448\n",
            "  0.40899334 0.39653769 0.         0.         0.         0.\n",
            "  0.         0.         0.         0.        ]\n",
            " [0.         0.         0.         0.         0.         0.\n",
            "  0.         0.         0.         0.         0.04117838 0.16813739\n",
            "  0.28960162 0.32790981 0.36833534 0.3689874  0.34978968 0.25961929\n",
            "  0.12760592 0.         0.         0.         0.         0.\n",
            "  0.         0.         0.         0.        ]\n",
            " [0.         0.         0.         0.         0.         0.\n",
            "  0.         0.         0.04431706 0.11961607 0.36545809 0.37314701\n",
            "  0.33153488 0.32790981 0.36833534 0.28877275 0.111988   0.00258328\n",
            "  0.         0.         0.         0.         0.         0.\n",
            "  0.         0.         0.         0.        ]\n",
            " [0.         0.         0.         0.         0.         0.\n",
            "  0.05298497 0.42752138 0.4219755  0.45852825 0.43408872 0.37314701\n",
            "  0.33153488 0.25273681 0.11646967 0.01312603 0.         0.\n",
            "  0.         0.         0.         0.         0.         0.\n",
            "  0.         0.         0.         0.        ]\n",
            " [0.         0.         0.         0.         0.37491383 0.56222061\n",
            "  0.66525569 0.63253163 0.48748768 0.45852825 0.43408872 0.359873\n",
            "  0.17428513 0.01425695 0.         0.         0.         0.\n",
            "  0.         0.         0.         0.         0.         0.\n",
            "  0.         0.         0.         0.        ]\n",
            " [0.         0.         0.         0.         0.92705966 0.82698729\n",
            "  0.74473314 0.63253163 0.4084877  0.24466922 0.22648107 0.02359823\n",
            "  0.         0.         0.         0.         0.         0.\n",
            "  0.         0.         0.         0.         0.         0.\n",
            "  0.         0.         0.         0.        ]\n",
            " [0.         0.         0.         0.         0.         0.\n",
            "  0.         0.         0.         0.         0.         0.\n",
            "  0.         0.         0.         0.         0.         0.\n",
            "  0.         0.         0.         0.         0.         0.\n",
            "  0.         0.         0.         0.        ]\n",
            " [0.         0.         0.         0.         0.         0.\n",
            "  0.         0.         0.         0.         0.         0.\n",
            "  0.         0.         0.         0.         0.         0.\n",
            "  0.         0.         0.         0.         0.         0.\n",
            "  0.         0.         0.         0.        ]\n",
            " [0.         0.         0.         0.         0.         0.\n",
            "  0.         0.         0.         0.         0.         0.\n",
            "  0.         0.         0.         0.         0.         0.\n",
            "  0.         0.         0.         0.         0.         0.\n",
            "  0.         0.         0.         0.        ]]\n"
          ]
        }
      ],
      "source": [
        "# After Normalize\n",
        "print(X_train[0])"
      ]
    },
    {
      "cell_type": "code",
      "execution_count": 9,
      "metadata": {
        "id": "h89Xuu5LfRMO"
      },
      "outputs": [
        {
          "name": "stdout",
          "output_type": "stream",
          "text": [
            "5\n"
          ]
        }
      ],
      "source": [
        "print(Y_train[0])"
      ]
    },
    {
      "attachments": {},
      "cell_type": "markdown",
      "metadata": {
        "id": "jIVAdQ9Ef57Q"
      },
      "source": [
        "# **Step 4 - Resizing Images for Convolutional Operations**\n",
        "- To apply **convolutional operations** in a **CNN**, it is necessary to reshape the input images to include the channel dimension. The MNIST dataset consists of grayscale images, so the channel dimension will have a value of 1. The following code snippet demonstrates how to resize the **MNIST** images to the appropriate dimensions:\n",
        "```\n",
        "import numpy as np\n",
        "IMG_SIZE = 28\n",
        "np.array(DATASET).reshape(-1, IMG_SIZE, IMG_SIZE, 1)\n",
        "```\n",
        "\n",
        "- In the above code, the **`np.array()`** function is used to convert the X_train and X_test arrays into NumPy arrays. Then, the **`reshape()`** function is applied to each array to reshape the images.\n",
        "\n",
        "- The **`reshape()`** function takes in the following arguments:\n",
        "\n",
        "- **`-1`**: This indicates that the size of that dimension is inferred based on the other dimensions and the total number of elements.\n",
        "- **`IMG_SIZE`**: This is the desired image size after resizing.\n",
        "- **`IMG_SIZE`**: This is the desired image size after resizing.\n",
        "- **`1`**: This indicates the number of channels, which is 1 for grayscale images.\n",
        "- After reshaping, the dimensions of the training and testing samples are printed using the **`print()`** function.\n",
        "\n",
        "- Reshaping the images to include the channel dimension allows the CNN to process the images correctly during training and inference.\n",
        "\n",
        "- Next, you can proceed to build and train your MNIST model using the resized images."
      ]
    },
    {
      "cell_type": "code",
      "execution_count": 10,
      "metadata": {
        "id": "HvZ86jkHfWa_"
      },
      "outputs": [],
      "source": [
        "# Resizing Image to make it suitable for applying Convolutional Operation\n",
        "import numpy as np\n",
        "IMG_SIZE = 28\n",
        "\n",
        "X_trainr = np.array(X_train).reshape(-1, IMG_SIZE, IMG_SIZE, 1)\n",
        "X_testr = np.array(X_test).reshape(-1, IMG_SIZE, IMG_SIZE, 1)"
      ]
    },
    {
      "cell_type": "code",
      "execution_count": 11,
      "metadata": {
        "id": "5RLRmn2lhIj9"
      },
      "outputs": [
        {
          "name": "stdout",
          "output_type": "stream",
          "text": [
            "Training Sample Dimension:  (60000, 28, 28, 1)\n",
            "Testing Sample Dimension:  (10000, 28, 28, 1)\n"
          ]
        }
      ],
      "source": [
        "print(\"Training Sample Dimension: \", X_trainr.shape)\n",
        "print(\"Testing Sample Dimension: \", X_testr.shape)"
      ]
    },
    {
      "attachments": {},
      "cell_type": "markdown",
      "metadata": {
        "id": "lSU05womhWhU"
      },
      "source": [
        "# **Step 5 -  Creating a Deep Neural Network for MNIST Classification**\n",
        "\n",
        "- In this section, a deep neural network `(DNN)` model is created for classifying the MNIST handwritten digits. The model architecture includes multiple convolutional layers followed by **fully connected layers**. The following code snippet demonstrates how to create the DNN model:\n",
        "\n",
        "## **`1. Convolutional Layers:`**\n",
        "- The first convolutional layer takes an input shape of **`(28, 28, 1)`** (the shape of a single MNIST image) and applies 64 filters with a kernel size of **`(3, 3)`**. It uses the ReLU activation function to introduce non-linearity to the model and is followed by max pooling with a pool size of **`(2, 2)`**.\n",
        "\n",
        "- The second convolutional layer also applies 64 filters with a kernel size of **`(3, 3)`** and ReLU activation. It is followed by max pooling with the same pool size as the previous layer.\n",
        "\n",
        "- The third convolutional layer applies 64 filters with a kernel size of **`(3, 3)`** and ReLU activation. It is also followed by max pooling.\n",
        "\n",
        "\n",
        "## **`2. Flattening:`**\n",
        "- After the convolutional layers, the feature maps are flattened using the **`Flatten()`** layer. This transforms the 3-dimensional output into a 1-dimensional tensor, allowing it to be connected to the **fully connected layers**.\n",
        "\n",
        "## **`3. Fully Connected Layers:`**\n",
        "\n",
        "- The first fully connected layer consists of 64 units with ReLU activation. It takes the flattened feature maps as input and applies non-linearity to the model.\n",
        "\n",
        "- The second fully connected layer consists of `32 units` with `ReLU` activation.\n",
        "\n",
        "- The last fully connected layer has 10 units, corresponding to the 10 classes in the MNIST dataset **`(digits 0-9)`**. It uses the softmax activation function to produce a probability distribution over the classes.\n",
        "\n",
        "- The flow architecture of the MNIST model can be summarized as follows:\n",
        "\n",
        "```\n",
        "Input -> Convolutional Layers -> Flattening -> Fully Connected Layers -> Output\n",
        "```\n"
      ]
    },
    {
      "attachments": {},
      "cell_type": "markdown",
      "metadata": {
        "id": "uRMaoVdqj43w"
      },
      "source": [
        "### **5.1. Import the dependencies**"
      ]
    },
    {
      "cell_type": "code",
      "execution_count": 12,
      "metadata": {
        "id": "9qv5cHtWhJUT"
      },
      "outputs": [],
      "source": [
        "from tensorflow.keras.models import Sequential\n",
        "from tensorflow.keras.layers import Dense, Dropout, Activation, Flatten, Conv2D, MaxPooling2D"
      ]
    },
    {
      "attachments": {},
      "cell_type": "markdown",
      "metadata": {
        "id": "aXKj6acokHE-"
      },
      "source": [
        "### **5.2. Create a Model of Convolutional Neural Network `(CNN)`**"
      ]
    },
    {
      "cell_type": "code",
      "execution_count": 13,
      "metadata": {
        "id": "KOi8blofkFHw"
      },
      "outputs": [],
      "source": [
        "# Create a Neural Network \n",
        "model = Sequential()\n",
        "\n",
        "# First Convolutional Layer ---> Layer 0 1 2 3 (60000, 28, 28, 1)\n",
        "model.add(Conv2D(64, (3,3), input_shape = X_trainr.shape[1:]))\n",
        "model.add(Activation(\"relu\"))\n",
        "model.add(MaxPooling2D(pool_size=(2,2)))\n",
        "\n",
        "# Second Convolutional Layer ---> Layer 4 5 6 7 (60000, 28, 28, 1)\n",
        "model.add(Conv2D(64, (3,3)))\n",
        "model.add(Activation(\"relu\"))\n",
        "model.add(MaxPooling2D(pool_size=(2,2)))\n",
        "\n",
        "# Third Convolutional Layer ---> Layer 8 9 10 11 (60000, 28, 28, 1)\n",
        "model.add(Conv2D(64, (3,3)))\n",
        "model.add(Activation(\"relu\"))\n",
        "model.add(MaxPooling2D(pool_size=(2,2)))\n",
        "\n",
        "# Fully Connected Layer #1\n",
        "model.add(Flatten())\n",
        "model.add(Dense(64))\n",
        "model.add(Activation(\"relu\"))\n",
        "\n",
        "# Fully Connected Layer #2\n",
        "model.add(Dense(32))\n",
        "model.add(Activation(\"relu\"))\n",
        "\n",
        "# Fully Connected Layer #3\n",
        "model.add(Dense(32))\n",
        "model.add(Activation(\"relu\"))\n",
        "\n",
        "# Last Fully Connected Layer \n",
        "model.add(Dense(10))\n",
        "model.add(Activation(\"sigmoid\"))\n",
        "\n",
        "model.add(Dense(10))\n",
        "model.add(Activation(\"softmax\"))"
      ]
    },
    {
      "attachments": {},
      "cell_type": "markdown",
      "metadata": {
        "id": "4hCxqiNBkkW2"
      },
      "source": [
        "### **5.3. Get the Summary of the Created Model**"
      ]
    },
    {
      "cell_type": "code",
      "execution_count": 14,
      "metadata": {
        "id": "f0Y8fVU6ki2_"
      },
      "outputs": [
        {
          "name": "stdout",
          "output_type": "stream",
          "text": [
            "Model: \"sequential\"\n",
            "_________________________________________________________________\n",
            " Layer (type)                Output Shape              Param #   \n",
            "=================================================================\n",
            " conv2d (Conv2D)             (None, 26, 26, 64)        640       \n",
            "                                                                 \n",
            " activation (Activation)     (None, 26, 26, 64)        0         \n",
            "                                                                 \n",
            " max_pooling2d (MaxPooling2D  (None, 13, 13, 64)       0         \n",
            " )                                                               \n",
            "                                                                 \n",
            " conv2d_1 (Conv2D)           (None, 11, 11, 64)        36928     \n",
            "                                                                 \n",
            " activation_1 (Activation)   (None, 11, 11, 64)        0         \n",
            "                                                                 \n",
            " max_pooling2d_1 (MaxPooling  (None, 5, 5, 64)         0         \n",
            " 2D)                                                             \n",
            "                                                                 \n",
            " conv2d_2 (Conv2D)           (None, 3, 3, 64)          36928     \n",
            "                                                                 \n",
            " activation_2 (Activation)   (None, 3, 3, 64)          0         \n",
            "                                                                 \n",
            " max_pooling2d_2 (MaxPooling  (None, 1, 1, 64)         0         \n",
            " 2D)                                                             \n",
            "                                                                 \n",
            " flatten (Flatten)           (None, 64)                0         \n",
            "                                                                 \n",
            " dense (Dense)               (None, 64)                4160      \n",
            "                                                                 \n",
            " activation_3 (Activation)   (None, 64)                0         \n",
            "                                                                 \n",
            " dense_1 (Dense)             (None, 32)                2080      \n",
            "                                                                 \n",
            " activation_4 (Activation)   (None, 32)                0         \n",
            "                                                                 \n",
            " dense_2 (Dense)             (None, 32)                1056      \n",
            "                                                                 \n",
            " activation_5 (Activation)   (None, 32)                0         \n",
            "                                                                 \n",
            " dense_3 (Dense)             (None, 10)                330       \n",
            "                                                                 \n",
            " activation_6 (Activation)   (None, 10)                0         \n",
            "                                                                 \n",
            " dense_4 (Dense)             (None, 10)                110       \n",
            "                                                                 \n",
            " activation_7 (Activation)   (None, 10)                0         \n",
            "                                                                 \n",
            "=================================================================\n",
            "Total params: 82,232\n",
            "Trainable params: 82,232\n",
            "Non-trainable params: 0\n",
            "_________________________________________________________________\n"
          ]
        }
      ],
      "source": [
        "model.summary()"
      ]
    },
    {
      "attachments": {},
      "cell_type": "markdown",
      "metadata": {
        "id": "KPbOWKZKlF7N"
      },
      "source": [
        "#### The summary provided gives an overview of the layers and parameters in the MNIST model. Here's a brief explanation of the summary:\n",
        "\n",
        "- The model is a Sequential model, meaning the layers are stacked sequentially.\n",
        "- The model consists of convolutional layers, activation layers, max pooling layers, a flattening layer, and dense layers.\n",
        "- The output shape of each layer represents the dimensions of the output tensor after passing through that layer.\n",
        "- The number of parameters indicates the total number of trainable parameters in the model.\n",
        "- The \"None\" dimension in the output shape indicates that it can vary depending on the batch size during training or inference.\n",
        "\n"
      ]
    },
    {
      "attachments": {},
      "cell_type": "markdown",
      "metadata": {
        "id": "Xz7v6asplQn0"
      },
      "source": [
        "## <u>**Detailed summary**</u>\n",
        "\n",
        "### **Convolutional Layer:**\n",
        "\n",
        "<hr>\n",
        "\n",
        "- **Input shape**: **`(None, 28, 28, 1)`**\n",
        "- **Output shape**: **`(None, 26, 26, 64)`**\n",
        "- **Parameters**: **`40`**\n",
        "- **Activation** Layer: **`None`**\n",
        "\n",
        "<hr>\n",
        "\n",
        "- **Output shape:** **`(None, 26, 26, 64)`**\n",
        "- **Max Pooling Layer:** **`None`**\n",
        "\n",
        "<hr>\n",
        "\n",
        "- **`Output shape`**: **`(None, 13, 13, 64)`**\n",
        "- **`Convolutional Layer:`** **`None`**\n",
        "\n",
        "<hr>\n",
        "\n",
        "- **Output shape:** **`(None, 11, 11, 64)`**\n",
        "- **Parameters:** **`36,928`**\n",
        "- **Activation Layer:** **`None`**\n",
        "\n",
        "<hr>\n",
        "\n",
        "- **Output shape:** **`(None, 11, 11, 64)`**\n",
        "- **Max Pooling Layer:** **`None`**\n",
        "\n",
        "<hr>\n",
        "\n",
        "- **Output shape:** **`(None, 5, 5, 64)`**\n",
        "- **Convolutional Layer:** **`None`**\n",
        "\n",
        "<hr>\n",
        "\n",
        "- **Output shape:** **`(None, 3, 3, 64)`**\n",
        "- **Parameters:** **`36,928`**\n",
        "- **Activation Layer:** **`None`**\n",
        "\n",
        "<hr>\n",
        "\n",
        "- **Output shape:** **`(None, 3, 3, 64)`**\n",
        "- **Max Pooling Layer:** **`None`**\n",
        "\n",
        "<hr>\n",
        "\n",
        "- **Output shape:** **`(None, 1, 1, 64)`**\n",
        "- **Flattening Layer:** **`None`**\n",
        "\n",
        "<hr>\n",
        "\n",
        "- **Output shape:** **`(None, 64)`**\n",
        "- **Dense Layer:** **`None`**\n",
        "- **Output shape:** **`(None, 64)`**\n",
        "- **Parameters:** **`4,160`**\n",
        "- **Activation Layer:** **`None`**\n",
        "- **Output shape:** **`(None, 64)`**\n",
        "- **Dense Layer:** **`None`**\n",
        "- **Output shape:** **`(None, 32)`**\n",
        "- **Parameters:** **`2,080`**\n",
        "- **Activation Layer:** **`None`**\n",
        "- **Output shape:** **`(None, 32)`**\n",
        "- **Dense Layer (Output Layer):** **`None`**\n",
        "- **Output shape:** **`(None, 10)`**\n",
        "- **Parameters:** **`330`**\n",
        "- **Activation Layer (Output Layer):** **`None`**\n",
        "- **Output shape:** **`(None, 10)`**\n",
        "\n",
        "<hr>\n",
        "\n",
        "- The total number of trainable parameters in the model is **`81,066`**."
      ]
    },
    {
      "attachments": {},
      "cell_type": "markdown",
      "metadata": {
        "id": "DSkt4FBMo8xf"
      },
      "source": [
        "## **5.4. Compile the CNN Model**\n",
        "\n",
        "- The **`model.compile()`** function is used to configure the learning process of the model. It specifies the loss function, optimizer, and metrics to be used during training and evaluation. Here's an explanation of the arguments used in **`model.compile()`**:\n",
        "\n",
        "   - **loss:** The loss function measures the difference between the predicted output and the true output. In this case, `\"sparse_categorical_crossentropy\"` is used as the loss function. This loss function is suitable for multi-class classification problems where the labels are integers (e.g., the MNIST dataset contains integer labels representing digits from 0 to 9).\n",
        "\n",
        "   - **optimizer:** The optimizer determines how the model is updated based on the calculated gradients. The `\"adam\"` optimizer is used in this case. Adam `(Adaptive Moment Estimation)` is a popular optimizer that combines the benefits of two other optimizers, AdaGrad and RMSProp. It adapts the learning rate for each parameter, leading to efficient and effective optimization.\n",
        "\n",
        "   - **metrics:** Metrics are used to evaluate the performance of the model. The specified metrics are calculated and reported during training and evaluation. In this case, the model is evaluated based on the accuracy metric, which measures the proportion of correctly classified samples.\n",
        "\n",
        "- By calling **`model.compile()`** with the specified arguments, the model is prepared for training and evaluation. It sets up the necessary components to optimize the model's weights using the specified loss function and optimizer, and it tracks the specified metrics to assess the model's performance."
      ]
    },
    {
      "cell_type": "code",
      "execution_count": 15,
      "metadata": {
        "id": "AeJAry6ykt0n"
      },
      "outputs": [],
      "source": [
        "model.compile(loss=\"sparse_categorical_crossentropy\", optimizer=\"adam\", metrics=['accuracy'])"
      ]
    },
    {
      "attachments": {},
      "cell_type": "markdown",
      "metadata": {
        "id": "rpVfwY-9quDM"
      },
      "source": [
        "## **5.5. Fit the Model**\n",
        "- The **`model.fit()`** function is used to train the model on the provided training data. Here's a brief explanation of the arguments used in **`model.fit()`**:\n",
        "\n",
        "  - **X_trainr**: The training data, which includes the preprocessed and resized MNIST images as input to the model.\n",
        "\n",
        "  - **Y_train**: The corresponding labels for the training data, representing the true digits for each image.\n",
        "\n",
        "  - **epochs**: The number of epochs defines the number of times the model will iterate over the entire training dataset. In this case, the model will train for 5 epochs, meaning it will go through the entire training dataset 5 times during training.\n",
        "\n",
        "  - **validation_split**: The validation_split parameter specifies the fraction of the training data to be used for validation. In this case, 30% of the training data will be reserved for validation during training.\n",
        "\n",
        "- During the training process, the model adjusts its weights based on the training data and the specified loss function and optimizer. It aims to minimize the loss and improve its accuracy in predicting the correct digit labels.\n",
        "\n",
        "- The **`model.fit()`** function performs the training iterations **`(epochs)`** and reports the training progress, including the loss and accuracy metrics. It also evaluates the model's performance on the validation data at the end of each epoch.\n",
        "\n",
        "- By calling **`model.fit()`** with the provided arguments, the model will be trained on the MNIST training data for 5 epochs, with a portion of the data reserved for validation. The training progress and evaluation metrics will be displayed during the training process."
      ]
    },
    {
      "cell_type": "code",
      "execution_count": 16,
      "metadata": {
        "id": "EjKyhR7dqsCe"
      },
      "outputs": [
        {
          "name": "stdout",
          "output_type": "stream",
          "text": [
            "Epoch 1/5\n"
          ]
        },
        {
          "name": "stdout",
          "output_type": "stream",
          "text": [
            "1313/1313 [==============================] - 49s 36ms/step - loss: 0.9587 - accuracy: 0.8038 - val_loss: 0.4366 - val_accuracy: 0.9301\n",
            "Epoch 2/5\n",
            "1313/1313 [==============================] - 56s 43ms/step - loss: 0.2801 - accuracy: 0.9544 - val_loss: 0.2195 - val_accuracy: 0.9539\n",
            "Epoch 3/5\n",
            "1313/1313 [==============================] - 57s 43ms/step - loss: 0.1512 - accuracy: 0.9686 - val_loss: 0.1244 - val_accuracy: 0.9726\n",
            "Epoch 4/5\n",
            "1313/1313 [==============================] - 60s 45ms/step - loss: 0.1030 - accuracy: 0.9766 - val_loss: 0.1017 - val_accuracy: 0.9746\n",
            "Epoch 5/5\n",
            "1313/1313 [==============================] - 61s 46ms/step - loss: 0.0812 - accuracy: 0.9810 - val_loss: 0.0814 - val_accuracy: 0.9799\n"
          ]
        }
      ],
      "source": [
        "history = model.fit(X_trainr, Y_train, epochs=5, validation_split=0.3)\n"
      ]
    },
    {
      "cell_type": "code",
      "execution_count": 17,
      "metadata": {},
      "outputs": [
        {
          "data": {
            "image/png": "[encoded data removed]",
            "text/plain": [
              "<Figure size 432x288 with 1 Axes>"
            ]
          },
          "metadata": {
            "needs_background": "light"
          },
          "output_type": "display_data"
        },
        {
          "data": {
            "image/png": "[encoded data removed]",
            "text/plain": [
              "<Figure size 432x288 with 1 Axes>"
            ]
          },
          "metadata": {
            "needs_background": "light"
          },
          "output_type": "display_data"
        }
      ],
      "source": [
        "import matplotlib.pyplot as plt\n",
        "\n",
        "# summarize history for accuracy\n",
        "plt.plot(history.history['accuracy'])\n",
        "plt.plot(history.history['val_accuracy'])\n",
        "plt.title('model accuracy')\n",
        "plt.ylabel('accuracy')\n",
        "plt.xlabel('epoch')\n",
        "plt.legend(['Train', 'Validation'], loc='upper left')\n",
        "plt.show()\n",
        "# summarize history for loss\n",
        "plt.plot(history.history['loss'])\n",
        "plt.plot(history.history['val_loss'])\n",
        "plt.title('model loss')\n",
        "plt.ylabel('loss')\n",
        "plt.xlabel('epoch')\n",
        "plt.legend(['Train', 'Validation'], loc='upper left')\n",
        "plt.show()"
      ]
    },
    {
      "attachments": {},
      "cell_type": "markdown",
      "metadata": {
        "id": "wdSsbCgKs2Z5"
      },
      "source": [
        "# **6. Evaluate the MNISt Dataset**"
      ]
    },
    {
      "cell_type": "code",
      "execution_count": 18,
      "metadata": {
        "id": "PLLRs-fBq87N"
      },
      "outputs": [
        {
          "name": "stdout",
          "output_type": "stream",
          "text": [
            "313/313 [==============================] - 3s 10ms/step - loss: 0.0779 - accuracy: 0.9812\n",
            "Test Loss on 10000 Test Samples:  0.07792457938194275\n",
            "Validation Accuracy on 10000 test samples:  0.9811999797821045\n"
          ]
        }
      ],
      "source": [
        "# Evaluating on Testing dataset MNIST\n",
        "test_loss, test_acc = model.evaluate(X_testr, Y_test)\n",
        "print(\"Test Loss on 10000 Test Samples: \", test_loss)\n",
        "print(\"Validation Accuracy on 10000 test samples: \", test_acc)"
      ]
    },
    {
      "attachments": {},
      "cell_type": "markdown",
      "metadata": {
        "id": "BysuB0_QtAlh"
      },
      "source": [
        "# **7. Save The Model `(.h5)` Extension**"
      ]
    },
    {
      "cell_type": "code",
      "execution_count": 19,
      "metadata": {
        "id": "Qy0eG_kxs9SK"
      },
      "outputs": [],
      "source": [
        "model.save('MNIST_Model.h5')"
      ]
    },
    {
      "cell_type": "markdown",
      "metadata": {},
      "source": [
        "# **Save The Model in pickel File**"
      ]
    },
    {
      "cell_type": "code",
      "execution_count": 20,
      "metadata": {},
      "outputs": [],
      "source": [
        "import pickle\n",
        "\n",
        "# Saving the model using pickle\n",
        "pickle.dump(model, open('MNIST_Model.pkl', 'wb'))"
      ]
    },
    {
      "attachments": {},
      "cell_type": "markdown",
      "metadata": {
        "id": "Ney9ebuDulMV"
      },
      "source": [
        "# **8. Test The Model**"
      ]
    },
    {
      "cell_type": "code",
      "execution_count": 21,
      "metadata": {
        "id": "eAjET3PAtYCh"
      },
      "outputs": [
        {
          "name": "stdout",
          "output_type": "stream",
          "text": [
            "313/313 [==============================] - 3s 9ms/step - loss: 0.1023 - accuracy: 0.9761\n",
            "Test Loss:  0.10225408524274826\n",
            "Test Accuracy:  0.9761000275611877\n",
            "313/313 [==============================] - 3s 10ms/step\n",
            "Classification Report:\n",
            "              precision    recall  f1-score   support\n",
            "\n",
            "           0       0.99      0.97      0.98       980\n",
            "           1       0.99      0.99      0.99      1135\n",
            "           2       0.97      0.97      0.97      1032\n",
            "           3       0.98      0.98      0.98      1010\n",
            "           4       0.97      0.99      0.98       982\n",
            "           5       0.99      0.93      0.96       892\n",
            "           6       0.98      0.98      0.98       958\n",
            "           7       0.97      0.98      0.98      1028\n",
            "           8       0.93      0.99      0.96       974\n",
            "           9       0.98      0.96      0.97      1009\n",
            "\n",
            "    accuracy                           0.98     10000\n",
            "   macro avg       0.98      0.98      0.98     10000\n",
            "weighted avg       0.98      0.98      0.98     10000\n",
            "\n"
          ]
        },
        {
          "data": {
            "image/png": "[encoded data removed]",
            "text/plain": [
              "<Figure size 576x432 with 2 Axes>"
            ]
          },
          "metadata": {
            "needs_background": "light"
          },
          "output_type": "display_data"
        }
      ],
      "source": [
        "import tensorflow as tf\n",
        "import numpy as np\n",
        "import matplotlib.pyplot as plt\n",
        "from sklearn.metrics import classification_report, confusion_matrix\n",
        "import seaborn as sns\n",
        "\n",
        "def load_data():\n",
        "    # Load the MNIST dataset\n",
        "    mnist = tf.keras.datasets.mnist\n",
        "    (X_train, Y_train), (X_test, Y_test) = mnist.load_data()\n",
        "\n",
        "    # Preprocess the data\n",
        "    X_train = X_train / 255.0\n",
        "    X_test = X_test / 255.0\n",
        "\n",
        "    # Reshape the data\n",
        "    X_train = np.reshape(X_train, (-1, 28, 28, 1))\n",
        "    X_test = np.reshape(X_test, (-1, 28, 28, 1))\n",
        "\n",
        "    return X_test, Y_test\n",
        "\n",
        "def load_model(model_file):\n",
        "    # Load the model from the file\n",
        "    model = tf.keras.models.load_model(model_file)\n",
        "\n",
        "    return model\n",
        "\n",
        "def test_model(model, X_test, Y_test):\n",
        "    # Evaluate the model on the testing dataset\n",
        "    test_loss, test_acc = model.evaluate(X_test, Y_test)\n",
        "\n",
        "    # Print the test loss and accuracy\n",
        "    print(\"Test Loss: \", test_loss)\n",
        "    print(\"Test Accuracy: \", test_acc)\n",
        "\n",
        "    # Perform predictions on the testing dataset\n",
        "    predictions = model.predict(X_test)\n",
        "\n",
        "    # Convert predicted probabilities to class labels\n",
        "    predicted_labels = np.argmax(predictions, axis=1)\n",
        "\n",
        "    # Calculate and print classification report\n",
        "    print(\"Classification Report:\")\n",
        "    print(classification_report(Y_test, predicted_labels))\n",
        "\n",
        "    # Plot a confusion matrix\n",
        "    cm = confusion_matrix(Y_test, predicted_labels)\n",
        "    plt.figure(figsize=(8, 6))\n",
        "    sns.heatmap(cm, annot=True, fmt=\"d\", cmap=\"Blues\")\n",
        "    plt.xlabel(\"Predicted Labels\")\n",
        "    plt.ylabel(\"True Labels\")\n",
        "    plt.title(\"Confusion Matrix\")\n",
        "    plt.show()\n",
        "\n",
        "# Load the testing data\n",
        "X_test, Y_test = load_data()\n",
        "\n",
        "# Specify the path to your model file\n",
        "model_file = \"MNIST_Model.h5\"\n",
        "\n",
        "# Load the model\n",
        "model = load_model(model_file)\n",
        "\n",
        "# Test the model\n",
        "test_model(model, X_test, Y_test)"
      ]
    },
    {
      "cell_type": "code",
      "execution_count": 22,
      "metadata": {},
      "outputs": [],
      "source": [
        "import tensorflow as tf\n",
        "import numpy as np\n",
        "import matplotlib.pyplot as plt\n",
        "from sklearn.metrics import classification_report, confusion_matrix\n",
        "import seaborn as sns"
      ]
    },
    {
      "cell_type": "code",
      "execution_count": 23,
      "metadata": {
        "id": "QhIETOOVxrcL"
      },
      "outputs": [
        {
          "name": "stdout",
          "output_type": "stream",
          "text": [
            "resized Shape :  (28, 28)\n"
          ]
        },
        {
          "data": {
            "text/plain": [
              "(1, 28, 28, 1)"
            ]
          },
          "execution_count": 23,
          "metadata": {},
          "output_type": "execute_result"
        }
      ],
      "source": [
        "import cv2\n",
        "import numpy as np\n",
        "\n",
        "# Load external image\n",
        "\n",
        "# image = cv2.imread('Digits/nine-_1_28.png')\n",
        "# image = cv2.imread('Digits/three_28.png')\n",
        "image = cv2.imread('Digits/four_2.png')\n",
        "\n",
        "\n",
        "# Reshape the image to match the input shape of your model\n",
        "# image = np.reshape(image, (1, 28, 28, 1))\n",
        "# plt.imshow(image, cmap=plt.cm.binary)   \n",
        "\n",
        "\n",
        "gray = cv2.cvtColor(image, cv2.COLOR_BGR2GRAY)\n",
        "gray.shape\n",
        "\n",
        "resized = cv2.resize(gray, (28, 28), interpolation= cv2.INTER_AREA)\n",
        "print(\"resized Shape : \",resized.shape)\n",
        "\n",
        "\n",
        "newImg = tf.keras.utils.normalize(resized, axis=1)\n",
        "\n",
        "newImg = np.array(newImg).reshape(-1, IMG_SIZE, IMG_SIZE, 1)\n",
        "newImg.shape\n",
        "\n",
        "# plt.imshow(image.reshape(28,28), cmap=plt.cm.binary)"
      ]
    },
    {
      "cell_type": "code",
      "execution_count": 24,
      "metadata": {
        "id": "PG5Zpu9hy03p"
      },
      "outputs": [
        {
          "name": "stdout",
          "output_type": "stream",
          "text": [
            "1/1 [==============================] - 0s 59ms/step\n"
          ]
        },
        {
          "name": "stdout",
          "output_type": "stream",
          "text": [
            "Predicted digit probably be : 4\n"
          ]
        },
        {
          "data": {
            "image/png": "[encoded data removed]",
            "text/plain": [
              "<Figure size 432x288 with 1 Axes>"
            ]
          },
          "metadata": {
            "needs_background": "light"
          },
          "output_type": "display_data"
        }
      ],
      "source": [
        "# Perform prediction on the external image\n",
        "prediction = model.predict(newImg)\n",
        "\n",
        "# Convert predicted probabilities to class label\n",
        "predicted_label = np.argmax(prediction)\n",
        "\n",
        "plt.imshow(image, cmap=plt.cm.binary)   \n",
        "\n",
        "# Print the predicted label\n",
        "print(\"Predicted digit probably be :\", predicted_label)\n"
      ]
    },
    {
      "cell_type": "code",
      "execution_count": null,
      "metadata": {
        "id": "Gu4ftILsy14C"
      },
      "outputs": [],
      "source": []
    },
    {
      "cell_type": "code",
      "execution_count": null,
      "metadata": {},
      "outputs": [],
      "source": []
    },
    {
      "cell_type": "code",
      "execution_count": null,
      "metadata": {},
      "outputs": [],
      "source": []
    }
  ],
  "metadata": {
    "accelerator": "GPU",
    "colab": {
      "gpuType": "T4",
      "private_outputs": true,
      "provenance": []
    },
    "gpuClass": "standard",
    "kernelspec": {
      "display_name": "Python 3",
      "name": "python3"
    },
    "language_info": {
      "codemirror_mode": {
        "name": "ipython",
        "version": 3
      },
      "file_extension": ".py",
      "mimetype": "text/x-python",
      "name": "python",
      "nbconvert_exporter": "python",
      "pygments_lexer": "ipython3",
      "version": "3.10.5"
    }
  },
  "nbformat": 4,
  "nbformat_minor": 0
}
